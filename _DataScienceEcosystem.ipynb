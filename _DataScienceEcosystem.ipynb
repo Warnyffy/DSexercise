{
 "cells": [
  {
   "cell_type": "markdown",
   "id": "1bef2eb1",
   "metadata": {},
   "source": [
    "# Data Science Tools and Ecosystem\n"
   ]
  },
  {
   "cell_type": "markdown",
   "id": "f9e6fd2e",
   "metadata": {},
   "source": [
    "In this exercise, Data Science Tools and Ecosystem are summarized."
   ]
  },
  {
   "cell_type": "markdown",
   "id": "142b3eb4",
   "metadata": {},
   "source": [
    "Some of the popular languages that Data Scientists use are:\n",
    "1. Python\n",
    "2. SQL\n",
    "3. R language\n",
    "4. MATLAB"
   ]
  },
  {
   "cell_type": "markdown",
   "id": "7ea8a505",
   "metadata": {},
   "source": [
    "**Objectives**\n",
    "- Learning Python basics\n",
    "- Learning R basics and R Studio\n",
    "- SQL"
   ]
  },
  {
   "cell_type": "markdown",
   "id": "25d3a50c",
   "metadata": {},
   "source": [
    "Some of the commonly used libraries used by Data Scientists include:\n",
    "1. TensorFlow\n",
    "2. NumPy\n",
    "3. Pandas\n",
    "4. SciPy\n",
    "5. PyTorch\n"
   ]
  },
  {
   "cell_type": "markdown",
   "id": "56c7562a",
   "metadata": {},
   "source": [
    "| Data Science Tools |\n",
    "|--------------|\n",
    "|Apache Spark|\n",
    "|Excel|\n",
    "|MATLAB|"
   ]
  },
  {
   "cell_type": "markdown",
   "id": "e1061da2",
   "metadata": {},
   "source": [
    "### Below are a few examples of evaluating arithmetic expressions in Python.\n"
   ]
  },
  {
   "cell_type": "code",
   "execution_count": 3,
   "id": "23308f5a",
   "metadata": {},
   "outputs": [
    {
     "data": {
      "text/plain": [
       "17"
      ]
     },
     "execution_count": 3,
     "metadata": {},
     "output_type": "execute_result"
    }
   ],
   "source": [
    "# This is a simple arthmetic expression to multiply then add integers.\n",
    "\n",
    "(3*4)+5"
   ]
  },
  {
   "cell_type": "code",
   "execution_count": 7,
   "id": "bb73cf5a",
   "metadata": {},
   "outputs": [
    {
     "data": {
      "text/plain": [
       "3.3333333333333335"
      ]
     },
     "execution_count": 7,
     "metadata": {},
     "output_type": "execute_result"
    }
   ],
   "source": [
    "# This will convert 200 minutes to hours by dividing by 60.\n",
    "\n",
    "200/60"
   ]
  },
  {
   "cell_type": "markdown",
   "id": "be2f857f",
   "metadata": {},
   "source": [
    "## Author\n",
    "Dibignou Andy Warren"
   ]
  },
  {
   "cell_type": "code",
   "execution_count": null,
   "id": "b829d1ed",
   "metadata": {},
   "outputs": [],
   "source": []
  }
 ],
 "metadata": {
  "kernelspec": {
   "display_name": "Python 3 (ipykernel)",
   "language": "python",
   "name": "python3"
  },
  "language_info": {
   "codemirror_mode": {
    "name": "ipython",
    "version": 3
   },
   "file_extension": ".py",
   "mimetype": "text/x-python",
   "name": "python",
   "nbconvert_exporter": "python",
   "pygments_lexer": "ipython3",
   "version": "3.9.13"
  }
 },
 "nbformat": 4,
 "nbformat_minor": 5
}
